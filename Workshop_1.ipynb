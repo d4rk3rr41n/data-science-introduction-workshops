{
 "cells": [
  {
   "cell_type": "markdown",
   "metadata": {},
   "source": [
    "# Workshop 1\n",
    "\n",
    "Here you're gonna test your __data scientist junior__ skills. Read carefully each one of the problems, write your own test cases, and validate everything works as expected."
   ]
  },
  {
   "cell_type": "markdown",
   "metadata": {},
   "source": [
    "## 1. Regular Expressions\n",
    "\n",
    "As follows complete the code based on the __requirement__. There is a part `#YOUR CODE HERE` where you _should complete_ to accomplish the task. However, you _could_ change anything you want."
   ]
  },
  {
   "cell_type": "markdown",
   "metadata": {},
   "source": [
    "### Problem 1.1\n",
    "\n",
    "Find a list of all of all of the names in the following string using _regex_."
   ]
  },
  {
   "cell_type": "code",
   "execution_count": 28,
   "metadata": {},
   "outputs": [
    {
     "name": "stdout",
     "output_type": "stream",
     "text": [
      "['Amy', 'Mary', 'Ruth', 'Peter']\n"
     ]
    }
   ],
   "source": [
    "import re\n",
    "\n",
    "def names() -> list:\n",
    "    \"\"\"Find the names in a simple string.\"\"\"\n",
    "    \n",
    "    simple_string = \"\"\"Amy is 5 years old, and her sister Mary is 2 years old. \n",
    "    Ruth and Peter, their parents, have 3 kids.\"\"\"\n",
    "\n",
    "    pattern = r'\\b[A-Z][a-z]*\\b'\n",
    "    \n",
    "    return re.findall(pattern, simple_string)\n",
    "\n",
    "print(names())"
   ]
  },
  {
   "cell_type": "code",
   "execution_count": 15,
   "metadata": {},
   "outputs": [
    {
     "name": "stdout",
     "output_type": "stream",
     "text": [
      "Test passed: All names were correctly identified.\n"
     ]
    }
   ],
   "source": [
    "# example of test case\n",
    "assert len(names()) == 4, \"There are four names in the simple_string.\"\n",
    "\n",
    "# test case for the names function\n",
    "expected_names = [\"Amy\", \"Mary\", \"Ruth\", \"Peter\"]\n",
    "actual_names = names()\n",
    "\n",
    "if len(actual_names) == len(expected_names) and all(name in expected_names for name in actual_names):\n",
    "    print(\"Test passed: All names were correctly identified.\")\n",
    "else:\n",
    "    print(f\"Test failed: Expected {expected_names}, but got {actual_names}.\")"
   ]
  },
  {
   "cell_type": "markdown",
   "metadata": {},
   "source": [
    "### Problem 1.2\n",
    "\n",
    "The _dataset file_ in [assets/grades.txt](./assets/grades.txt) contains a line separated _list of people_ with their __grade__ in a class. Create a _regex_ to generate a list of just those students who received a __B__ in the course."
   ]
  },
  {
   "cell_type": "code",
   "execution_count": 29,
   "metadata": {},
   "outputs": [
    {
     "name": "stdout",
     "output_type": "stream",
     "text": [
      "['Bell Kassulke', 'Simon Loidl', 'Elias Jovanovic', 'Hakim Botros', 'Emilie Lorentsen', 'Jake Wood', 'Fatemeh Akhtar', 'Kim Weston', 'Yasmin Dar', 'Viswamitra Upandhye', 'Killian Kaufman', 'Elwood Page', 'Elodie Booker', 'Adnan Chen', 'Hank Spinka', 'Hannah Bayer']\n"
     ]
    }
   ],
   "source": [
    "import re\n",
    "\n",
    "def grades() -> list:\n",
    "    \n",
    "    \"\"\"Returns the names of students who received a grade of B in the course.\"\"\"\n",
    "    \n",
    "    with open('assets/grades.txt', 'r') as file:\n",
    "        grades = file.read()\n",
    "        \n",
    "    # Regex pattern to find names of students with a grade of B\n",
    "    pattern = r'([A-Za-z]+ [A-Za-z]+): B'\n",
    "    \n",
    "    # Find all matches of the pattern in the grades string\n",
    "    students = re.findall(pattern, grades)\n",
    "    \n",
    "    return students\n",
    "\n",
    "print(grades())"
   ]
  },
  {
   "cell_type": "code",
   "execution_count": 25,
   "metadata": {},
   "outputs": [
    {
     "name": "stdout",
     "output_type": "stream",
     "text": [
      "Test passed: Correct number of students with a grade B were identified.\n"
     ]
    }
   ],
   "source": [
    "# example of test case\n",
    "assert len(grades()) == 16\n",
    "\n",
    "# Test case\n",
    "expected_students_count = 16  # Adjust this according to the actual content of your file\n",
    "actual_students = grades()\n",
    "\n",
    "if len(actual_students) == expected_students_count:\n",
    "    print(\"Test passed: Correct number of students with a grade B were identified.\")\n",
    "else:\n",
    "    print(f\"Test failed: Expected {expected_students_count} students with a grade B, but got {len(actual_students)}.\")"
   ]
  },
  {
   "cell_type": "markdown",
   "metadata": {},
   "source": [
    "### Problem 1.3\n",
    "\n",
    "Consider the standard _web log file_ in [assets/logdata.txt](./assets/logdata.txt). This _file_ records the _access_ a user makes when visiting a web page. Each __line of the log__ has the following _items_:\n",
    "\n",
    "- a __host__ (e.g., `146.204.224.152`)\n",
    "- a __user_name__ (e.g., `feest6811`. _Hint:_ sometimes the user name is missing! In this case, use `-` as the value for the username.)\n",
    "- the __time__ a request was made (e.g., `21/Jun/2019:15:45:24 -0700`)\n",
    "- the post __request type__ (e.g., `POST /incentivize HTTP/1.1`. _Note:_ not everything is a POST!)\n",
    "\n",
    "Your task is to convert this into a list of dictionaries, where each dictionary looks like the following:\n",
    "\n",
    "```python\n",
    "example_dict = {\"host\":\"146.204.224.152\", \n",
    "                \"user_name\":\"feest6811\", \n",
    "                \"time\":\"21/Jun/2019:15:45:24 -0700\",\n",
    "                \"request\":\"POST /incentivize HTTP/1.1\"}\n",
    "```"
   ]
  },
  {
   "cell_type": "code",
   "execution_count": 65,
   "metadata": {},
   "outputs": [],
   "source": [
    "import re\n",
    "\n",
    "def logs():\n",
    "    with open(\"assets/logdata.txt\", \"r\") as file:\n",
    "        logdata = file.read()\n",
    "    actions = re.split(r\"\\n\", logdata)\n",
    "\n",
    "    logs_list = []\n",
    "\n",
    "    # Define regex pattern to extract data\n",
    "    log_pattern = re.compile(\n",
    "        r'(?P<host>[\\d.]+) - (?P<user_name>\\S+) \\[(?P<time>[^\\]]+)\\] \"(?P<request>[^\"]+)\"'\n",
    "    )\n",
    "\n",
    "    for action in actions:\n",
    "        match = log_pattern.match(action)\n",
    "        if match:\n",
    "            log_entry = {\n",
    "                \"host\": match.group(\"host\"),\n",
    "                \"user_name\": match.group(\"user_name\"),\n",
    "                \"time\": match.group(\"time\"),\n",
    "                \"request\": match.group(\"request\")\n",
    "            }\n",
    "            logs_list.append(log_entry)\n",
    "    \n",
    "    return logs_list\n"
   ]
  },
  {
   "cell_type": "code",
   "execution_count": 69,
   "metadata": {},
   "outputs": [
    {
     "name": "stdout",
     "output_type": "stream",
     "text": [
      "\"host\": \"146.204.224.152\",\n",
      "\"user_name\": \"feest6811\",\n",
      "\"time\": \"21/Jun/2019:15:45:24 -0700\",\n",
      "\"request\": \"POST /incentivize HTTP/1.1\"\n",
      "\n",
      "\"host\": \"197.109.77.178\",\n",
      "\"user_name\": \"kertzmann3129\",\n",
      "\"time\": \"21/Jun/2019:15:45:25 -0700\",\n",
      "\"request\": \"DELETE /virtual/solutions/target/web+services HTTP/2.0\"\n",
      "\n",
      "\"host\": \"156.127.178.177\",\n",
      "\"user_name\": \"okuneva5222\",\n",
      "\"time\": \"21/Jun/2019:15:45:27 -0700\",\n",
      "\"request\": \"DELETE /interactive/transparent/niches/revolutionize HTTP/1.1\"\n",
      "\n"
     ]
    }
   ],
   "source": [
    "# Example test case\n",
    "one_item = {\n",
    "    \"host\": \"146.204.224.152\",\n",
    "    \"user_name\": \"feest6811\",\n",
    "    \"time\": \"21/Jun/2019:15:45:24 -0700\",\n",
    "    \"request\": \"POST /incentivize HTTP/1.1\",\n",
    "}\n",
    "assert (\n",
    "    one_item in logs()\n",
    "), \"Sorry, this item should be in the log results, check your formatting\"\n",
    "\n",
    "# Test case\n",
    "if __name__ == \"__main__\":\n",
    "    log_entries = logs()\n",
    "    for entry in log_entries[:3]:  # Print the number of entries to verify\n",
    "        print(\n",
    "            f'\"host\": \"{entry[\"host\"]}\",\\n'\n",
    "            f'\"user_name\": \"{entry[\"user_name\"]}\",\\n'\n",
    "            f'\"time\": \"{entry[\"time\"]}\",\\n'\n",
    "            f'\"request\": \"{entry[\"request\"]}\"\\n'\n",
    "        )"
   ]
  },
  {
   "cell_type": "markdown",
   "metadata": {},
   "source": [
    "# 2. Descriptive Analysis\n",
    "\n",
    "For this section, you'll be looking at _2017 data on immunizations_ from the _CDC_. Your _datafile_ for next tasks is in [assets/NISPUF17.csv](./assets/NISPUF17.csv). A _data users guide_ for this, which you'll need to map the variables in the data to the questions being asked, is available at [assets/NIS-PUF17-DUG.pdf](./assets/NIS-PUF17-DUG.pdf)."
   ]
  },
  {
   "cell_type": "markdown",
   "metadata": {},
   "source": [
    "# Problem 2.1\n",
    "\n",
    "Write a function called _proportion\\_of\\_education_ which returns the proportion of __children__ in the dataset who had a mother with the education levels equal to less than high school ($<12$), high school ($12$), more than high school but not a college graduate ($>12$) and _college degree_.\n",
    "\n",
    "This _function_ should return a __dictionary__ in the form of (use the _correct numbers_, do not round numbers):\n",
    "\n",
    "```python\n",
    "{\n",
    "    \"less than high school\": 0.2,\n",
    "    \"high school\": 0.4,\n",
    "    \"more than high school but not college\": 0.2,\n",
    "    \"college\": 0.2\n",
    "}\n",
    "```"
   ]
  },
  {
   "cell_type": "code",
   "execution_count": 89,
   "metadata": {},
   "outputs": [
    {
     "name": "stdout",
     "output_type": "stream",
     "text": [
      "{'less than high school': 1.0, 'high school': 0.0, 'more than high school but not college': 0.0, 'college': 0.0}\n"
     ]
    }
   ],
   "source": [
    "import pandas as pd\n",
    "\n",
    "df = pd.read_csv('assets/NISPUF17.csv')\n",
    "\n",
    "def proportion_of_education():\n",
    "    # Initialize the proportions dictionary\n",
    "    proportions = {}\n",
    "\n",
    "    # Filter the data for each education level\n",
    "    less_than_high_school = df[df['EDUC1'] < 12].shape[0]\n",
    "    high_school = df[df['EDUC1'] == 12].shape[0]\n",
    "    more_than_high_school_but_not_college = df[(df['EDUC1'] > 12) & (df['EDUC1'] < 16)].shape[0]\n",
    "    college = df[df['EDUC1'] >= 16].shape[0]\n",
    "\n",
    "    # Calculate the total number of records\n",
    "    total = df.shape[0]\n",
    "\n",
    "    # Calculate the proportions\n",
    "    proportions[\"less than high school\"] = round(less_than_high_school / total, 1)\n",
    "    proportions[\"high school\"] = round(high_school / total, 1)\n",
    "    proportions[\"more than high school but not college\"] = round(more_than_high_school_but_not_college / total, 1)\n",
    "    proportions[\"college\"] = round(college / total, 1)\n",
    "\n",
    "    return proportions\n",
    "\n",
    "proportions = proportion_of_education()\n",
    "print(proportions)\n",
    "\n"
   ]
  },
  {
   "cell_type": "code",
   "execution_count": 84,
   "metadata": {},
   "outputs": [],
   "source": [
    "# example of test cases\n",
    "assert type(proportion_of_education()) == type({}), \"You must return a dictionary.\"\n",
    "assert (\n",
    "    len(proportion_of_education()) == 4\n",
    "), \"You have not returned a dictionary with four items in it.\""
   ]
  },
  {
   "cell_type": "markdown",
   "metadata": {},
   "source": [
    "## Problem 2.2\n",
    "\n",
    "Let's explore the relationship between being _fed breastmilk_ as a child and getting a seasonal _influenza vaccine_ from a healthcare provider. Return a __tuple__ of the _average number of influenza vaccines_ for those children we know received breastmilk as a child and those who know did not.\n",
    "\n",
    "This _function_ should return a __tuple__ in the form (use the _correct numbers_):\n",
    "\n",
    "```python\n",
    "(2.5, 0.1)\n",
    "```"
   ]
  },
  {
   "cell_type": "code",
   "execution_count": 7,
   "metadata": {},
   "outputs": [
    {
     "name": "stdout",
     "output_type": "stream",
     "text": [
      "(1.8799187420058687, 1.5963945918878317)\n"
     ]
    }
   ],
   "source": [
    "import pandas as pd\n",
    "\n",
    "df = pd.read_csv('assets/NISPUF17.csv')\n",
    "\n",
    "def average_influenza_doses():\n",
    "    '''Calculate the average number of influenza vaccines for children who were breastfed and those who were not.'''\n",
    "    \n",
    "    # Filter data for children who were fed breastmilk\n",
    "    breastfed = df[df['CBF_01'] == 1]\n",
    "    not_breastfed = df[df['CBF_01'] == 2]\n",
    "    \n",
    "    # Calculate the average number of influenza vaccines for each group\n",
    "    avg_breastfed = breastfed['P_NUMFLU'].mean()\n",
    "    avg_not_breastfed = not_breastfed['P_NUMFLU'].mean()\n",
    "    \n",
    "    # Format the results to one decimal place and create a tuple\n",
    "    doses = ((float(avg_breastfed)), (float(avg_not_breastfed)))\n",
    "    \n",
    "    return doses\n",
    "\n",
    "doses = average_influenza_doses()\n",
    "print(doses)\n"
   ]
  },
  {
   "cell_type": "code",
   "execution_count": null,
   "metadata": {},
   "outputs": [],
   "source": [
    "# example of test cases\n",
    "assert (\n",
    "    len(average_influenza_doses()) == 2\n",
    "), \"Return two values in a tuple, the first for yes and the second for no.\""
   ]
  },
  {
   "cell_type": "markdown",
   "metadata": {},
   "source": [
    "## Problem 2.3\n",
    "\n",
    "It would be interesting to see if there is any evidence of a link between _vaccine effectiveness_ and _sex of the child_. Calculate the _ratio of the number of children_ who contracted __chickenpox__ but _were vaccinated against it_ (at least one varicella dose) versus those who were vaccinated but did not contract _chicken pox_. Return results by _sex_.\n",
    "\n",
    "This _function_ should return a __dictionary__ in the form of (use the _correct numbers_):\n",
    "\n",
    "```python\n",
    "{\n",
    "    \"male\":0.2,\n",
    "    \"female\":0.4\n",
    "}\n",
    "```\n",
    "\n",
    "_Note:_ To aid in verification, the `chickenpox_by_sex()['female']` value the autograder is looking for starts with the digits `0.0077`.\n"
   ]
  },
  {
   "cell_type": "code",
   "execution_count": 106,
   "metadata": {},
   "outputs": [
    {
     "name": "stdout",
     "output_type": "stream",
     "text": [
      "{'male': 0.0097, 'female': 0.0078}\n"
     ]
    }
   ],
   "source": [
    "import pandas as pd\n",
    "\n",
    "df = pd.read_csv('assets/NISPUF17.csv')\n",
    "\n",
    "def chickenpox_by_sex():\n",
    "    '''Returns the ratio of the number of children who contracted chickenpox and were vaccinated against it by sex'''\t\n",
    "    \n",
    "    # Filter children who received at least one dose of the varicella vaccine\n",
    "    vaccinated = df[df['P_NUMVRC'] >= 1]\n",
    "    \n",
    "    # Separate vaccinated children by those who contracted chickenpox\n",
    "    vaccinated_and_had_chickenpox = vaccinated[vaccinated['HAD_CPOX'] == 1]\n",
    "    vaccinated_and_no_chickenpox = vaccinated[vaccinated['HAD_CPOX'] == 2]\n",
    "    \n",
    "    # Calculate the number of males and females in each group\n",
    "    male_had_chickenpox = vaccinated_and_had_chickenpox[vaccinated_and_had_chickenpox['SEX'] == 1].shape[0]\n",
    "    male_no_chickenpox = vaccinated_and_no_chickenpox[vaccinated_and_no_chickenpox['SEX'] == 1].shape[0]\n",
    "    female_had_chickenpox = vaccinated_and_had_chickenpox[vaccinated_and_had_chickenpox['SEX'] == 2].shape[0]\n",
    "    female_no_chickenpox = vaccinated_and_no_chickenpox[vaccinated_and_no_chickenpox['SEX'] == 2].shape[0]\n",
    "    \n",
    "    # Calculate the ratio for males and females\n",
    "    male_ratio = male_had_chickenpox / male_no_chickenpox if male_no_chickenpox != 0 else 0\n",
    "    female_ratio = female_had_chickenpox / female_no_chickenpox if female_no_chickenpox != 0 else 0\n",
    "    \n",
    "    # Create the dictionary with the calculated ratios\n",
    "    stats = {\n",
    "        \"male\": round(male_ratio, 4),\n",
    "        \"female\": round(female_ratio, 4)\n",
    "    }\n",
    "    \n",
    "    return stats\n",
    "\n",
    "stats = chickenpox_by_sex()\n",
    "print(stats)\n"
   ]
  },
  {
   "cell_type": "markdown",
   "metadata": {},
   "source": [
    "## Problem 2.4\n",
    "\n",
    "A __correlation__ is a _statistical relationship_ between two variables. If we wanted to know _if vaccines work_, we might look at the correlation between the use of the vaccine and whether it results in prevention of the infection or disease. In this task, you are to see if there is a correlation between _having had the chicken pox_ and the _number of chickenpox vaccine doses given_ (varicella).\n",
    "\n",
    "Some notes on interpreting the answer. The `had_chickenpox_column` is either $1$ (for _yes_) or $2$ (for _no_), and the `num_chickenpox_vaccine_column` is the number of doses a child has been given of the varicella vaccine. A _positive correlation_ (e.g., $corr > 0$) means that an increase in _had\\_chickenpox\\_column_ (which means more _no_’s) would also increase the values of _num\\_chickenpox\\_vaccine\\_column_ (which means _more doses of vaccine_). If there is a _negative correlation_ (e.g., $corr < 0$), it indicates that having had chickenpox is related to an increase in the number of vaccine doses.\n",
    "\n",
    "Also, $pval$ is the probability that we observe a correlation between _had\\_chickenpox\\_column_ and _num\\_chickenpox\\_vaccine\\_column_ which is greater than or equal to a particular value occurred by chance. A _small pval_ means that the observed correlation is highly unlikely to occur by chance. In this case, _pval_ should be very small (will end in $e-18$ indicating a very small number)."
   ]
  },
  {
   "cell_type": "code",
   "execution_count": 1,
   "metadata": {},
   "outputs": [
    {
     "name": "stdout",
     "output_type": "stream",
     "text": [
      "0.07044873460147985\n"
     ]
    }
   ],
   "source": [
    "import scipy.stats as stats\n",
    "import numpy as np\n",
    "import pandas as pd\n",
    "\n",
    "def corr_chickenpox() -> float:\n",
    "    '''Returns the Pearson correlation coefficient between the number of varicella (chickenpox) vaccine doses a child has received and the number of chickenpox cases reported'''\n",
    "    \n",
    "    children_df = pd.read_csv('assets/NISPUF17.csv')\n",
    "\n",
    "    relevant_df = children_df[(children_df[\"HAD_CPOX\"].isin([1, 2])) & (~children_df[\"P_NUMVRC\"].isna())]\n",
    "    \n",
    "    # Extracting the columns of interest\n",
    "    had_chickenpox = relevant_df[\"HAD_CPOX\"]\n",
    "    num_chickenpox_vaccine = relevant_df[\"P_NUMVRC\"]\n",
    "    \n",
    "    # Calculate the Pearson correlation coefficient and p-value\n",
    "    corr, pval = stats.pearsonr(had_chickenpox, num_chickenpox_vaccine)\n",
    "    \n",
    "    return float(corr)\n",
    "print(corr_chickenpox())"
   ]
  },
  {
   "cell_type": "code",
   "execution_count": null,
   "metadata": {},
   "outputs": [],
   "source": [
    "# example of test cases\n",
    "assert (\n",
    "    -1 <= corr_chickenpox() <= 1\n",
    "), \"You must return a float number between -1.0 and 1.0.\""
   ]
  }
 ],
 "metadata": {
  "kernelspec": {
   "display_name": "data_science_course",
   "language": "python",
   "name": "python3"
  },
  "language_info": {
   "codemirror_mode": {
    "name": "ipython",
    "version": 3
   },
   "file_extension": ".py",
   "mimetype": "text/x-python",
   "name": "python",
   "nbconvert_exporter": "python",
   "pygments_lexer": "ipython3",
   "version": "3.12.2"
  }
 },
 "nbformat": 4,
 "nbformat_minor": 2
}
